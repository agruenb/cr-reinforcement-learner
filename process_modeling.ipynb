{
 "cells": [
  {
   "cell_type": "code",
   "execution_count": 122,
   "metadata": {},
   "outputs": [],
   "source": [
    "import numpy as np"
   ]
  },
  {
   "cell_type": "code",
   "execution_count": 202,
   "metadata": {},
   "outputs": [
    {
     "name": "stdout",
     "output_type": "stream",
     "text": [
      "8\n",
      "[0 1 2 3 4 5 6 7] [ 0  1  2  3  4  5  6  7  8  9 10 11 12 13 14 15 16 17 18 19 20 21 22] [0. 0. 0. 0. 0. 0. 0. 0.] [1. 1. 1. 1. 1. 1. 1. 1.]\n"
     ]
    }
   ],
   "source": [
    "#model environment parameters\n",
    "adjustment_interval_min = 15\n",
    "charging_duration_min = 120\n",
    "min_charging_rate_kW = 0\n",
    "max_charging_rate_kW = 22\n",
    "battery_capacity_kWh = 40\n",
    "\n",
    "expected_usage_kWh = 30\n",
    "sigma_kWh = 5\n",
    "\n",
    "#optimizer (Reinforcement Learner) parameters\n",
    "fully_exhousted_penalty = -1_000_000_000\n",
    "\n",
    "#computed parameters\n",
    "num_charging_adjustments = int(charging_duration_min/adjustment_interval_min)\n",
    "print(num_charging_adjustments)\n",
    "\n",
    "#series\n",
    "Intervals = np.linspace(0, num_charging_adjustments - 1, num_charging_adjustments).astype(int)\n",
    "Actions = np.linspace(min_charging_rate_kW, max_charging_rate_kW, max_charging_rate_kW + 1).astype(int)\n",
    "\n",
    "A = np.ones(num_charging_adjustments)\n",
    "\n",
    "print(Intervals, Actions, A)"
   ]
  },
  {
   "cell_type": "code",
   "execution_count": 124,
   "metadata": {},
   "outputs": [
    {
     "name": "stdout",
     "output_type": "stream",
     "text": [
      "[34.69887272 21.49787134 30.87573638 33.42189521 37.16105302 31.22192948\n",
      " 32.49166767 31.72393138 35.73044428 30.84258531]\n"
     ]
    }
   ],
   "source": [
    "samples = np.random.normal(expected_usage_kWh, sigma_kWh, 10)\n",
    "\n",
    "print(samples)"
   ]
  },
  {
   "cell_type": "code",
   "execution_count": 216,
   "metadata": {},
   "outputs": [
    {
     "name": "stdout",
     "output_type": "stream",
     "text": [
      "0.001\n"
     ]
    }
   ],
   "source": [
    "def calcChargingCost(t, p):\n",
    "    e = np.exp(1)\n",
    "    return A[t]*(e**p)\n",
    "\n",
    "def rewardF(totalChargeByInterval, requiredkWh):\n",
    "    totalCharged = totalChargeByInterval/(int(60/adjustment_interval_min))\n",
    "    # diviation penalty\n",
    "    divitation = abs(requiredkWh - totalCharged)\n",
    "    divitationCost = max(divitation, .001)\n",
    "    # extra penalty for running out\n",
    "    runOutCost = fully_exhousted_penalty if requiredkWh > totalCharged else 0\n",
    "    return  divitationCost + runOutCost\n",
    "\n",
    "print(rewardF(120, 30))"
   ]
  },
  {
   "cell_type": "code",
   "execution_count": 300,
   "metadata": {},
   "outputs": [
    {
     "name": "stdout",
     "output_type": "stream",
     "text": [
      "Actions 21845\n"
     ]
    }
   ],
   "source": [
    "#generate env\n",
    "\n",
    "def convertActionToChargingPower(value):\n",
    "    if value == 0:\n",
    "        return 0\n",
    "    if value == 1:\n",
    "        return 6\n",
    "    if value == 2:\n",
    "        return 12\n",
    "    if value == 3:\n",
    "        return 18\n",
    "\n",
    "class env:\n",
    "    def __init__(self):\n",
    "        self.nA = 4\n",
    "        self.nS = self.totalNodes(num_charging_adjustments)\n",
    "        self.P = self.create_P()\n",
    "        \"\"\" \n",
    "        print(self.nS)\n",
    "        print(self.nA)\n",
    "        print(self.P) \"\"\"\n",
    "\n",
    "    def totalNodes(self, layer):\n",
    "        totalNodes = 0\n",
    "        for lvl in range(0, layer):\n",
    "            totalNodes = totalNodes + self.nA**lvl\n",
    "        return totalNodes\n",
    "\n",
    "    def create_P(self):\n",
    "        P = []\n",
    "\n",
    "        numberOfActions = self.nA\n",
    "        \n",
    "        def getActionValues(level, levelId):\n",
    "            actionValue = levelId%numberOfActions\n",
    "            values = [actionValue]\n",
    "            ids = [levelId]\n",
    "            for lvl in range(0, level):\n",
    "                lastActionId = ids[0]//numberOfActions\n",
    "                lastActionValue = lastActionId%numberOfActions\n",
    "                values.insert(0, lastActionValue)\n",
    "                ids.insert(0, lastActionId)\n",
    "            return values\n",
    "\n",
    "        actions = list()\n",
    "\n",
    "        states = list()\n",
    "\n",
    "        print(\"Actions\", self.totalNodes(num_charging_adjustments))\n",
    "\n",
    "        for actionLevel in range(0, num_charging_adjustments + 1):#+1 because the root of the tree has no pretaken action\n",
    "            lastLayerActions = self.totalNodes(actionLevel)\n",
    "            layerActions = self.totalNodes(actionLevel+1)\n",
    "\n",
    "            states.append([])\n",
    "\n",
    "            for levelActionId in range(0, numberOfActions**actionLevel):\n",
    "                # levelActionId:\n",
    "                #0 0 0 0\n",
    "                #  1 1 1\n",
    "                #    2 2\n",
    "                #      3\n",
    "                #\n",
    "                # globalIds:\n",
    "                #0 1 3 6\n",
    "                #  2 4 7\n",
    "                #    5 8\n",
    "                #      9\n",
    "                #\n",
    "\n",
    "                #construct location in state tree\n",
    "                action = levelActionId%numberOfActions\n",
    "                globalActionId = (lastLayerActions-1) + levelActionId\n",
    "                actions.append(0)\n",
    "\n",
    "                originStateLevelId = levelActionId//numberOfActions\n",
    "                originStateId = originStateLevelId+self.totalNodes(actionLevel-1)\n",
    "                destinationStateId = self.totalNodes(actionLevel)+(originStateLevelId*numberOfActions)+action\n",
    "\n",
    "                if(originStateId == len(P)):\n",
    "                    P.append([])\n",
    "                elif(originStateId > len(P)):\n",
    "                    print(\"!Skipped state!\")\n",
    "\n",
    "\n",
    "                if(actionLevel != num_charging_adjustments):\n",
    "                    actionTransition = ( 1, destinationStateId, int(-(calcChargingCost(actionLevel - 1, convertActionToChargingPower(action))/4)), False)\n",
    "                    actions[globalActionId] = actionTransition\n",
    "                    P[originStateId].append([actionTransition])\n",
    "                else:\n",
    "                    actionValues = getActionValues(actionLevel, levelActionId)\n",
    "                    #remove root node\n",
    "                    actionValues = actionValues[1:]\n",
    "                    charge = 0\n",
    "                    for i, action in enumerate(actionValues):\n",
    "                        charge = charge + convertActionToChargingPower(action)\n",
    "                    rewardValue = rewardF(charge, 30)-(calcChargingCost(actionLevel - 1, convertActionToChargingPower(action))/4)\n",
    "                    actionTransition = (1, destinationStateId, int(rewardValue), True)\n",
    "                    actions[globalActionId] = actionTransition\n",
    "                    P[originStateId].append([actionTransition])\n",
    "        #remove root node\n",
    "        P[0] = P[0][1:]\n",
    "        return P\n",
    "\n",
    "env = env()"
   ]
  },
  {
   "cell_type": "code",
   "execution_count": 303,
   "metadata": {},
   "outputs": [
    {
     "name": "stdout",
     "output_type": "stream",
     "text": [
      "1. Action:  1 4 -16414992 False\n",
      "2. Action:  1 20 -16414992 False\n",
      "3. Action:  1 84 -16414992 False\n",
      "4. Action:  1 340 -16414992 False\n",
      "5. Action:  1 1364 -16414992 False\n",
      "6. Action:  1 5460 -16414992 False\n",
      "7. Action:  1 21844 -16414992 False\n",
      "8. Action:  1 87380 -16414986 True\n"
     ]
    }
   ],
   "source": [
    "# P[n] is the list of states\n",
    "# each state containes a list of actions P[n][a]\n",
    "# each action contains a list of tuples like (transition_prob, next_state, reward, done)\n",
    "# since transition_prob is always 1 there is also only one tuple per action\n",
    "\n",
    "#take example path\n",
    "for prob, next_state, reward, done in env.P[0][3]:\n",
    "    print(\"1. Action: \", prob, next_state, reward, done)\n",
    "    for prob, next_state, reward, done in env.P[next_state][3]:\n",
    "        print(\"2. Action: \", prob, next_state, reward, done)\n",
    "        for prob, next_state, reward, done in env.P[next_state][3]:\n",
    "                print(\"3. Action: \", prob, next_state, reward, done)\n",
    "                for prob, next_state, reward, done in env.P[next_state][3]:\n",
    "                        print(\"4. Action: \", prob, next_state, reward, done)\n",
    "                        for prob, next_state, reward, done in env.P[next_state][3]:\n",
    "                                print(\"5. Action: \", prob, next_state, reward, done)\n",
    "                                for prob, next_state, reward, done in env.P[next_state][3]:\n",
    "                                        print(\"6. Action: \", prob, next_state, reward, done)\n",
    "                                        for prob, next_state, reward, done in env.P[next_state][3]:\n",
    "                                                print(\"7. Action: \", prob, next_state, reward, done)\n",
    "                                                for prob, next_state, reward, done in env.P[next_state][3]:\n",
    "                                                    print(\"8. Action: \", prob, next_state, reward, done)\n"
   ]
  }
 ],
 "metadata": {
  "kernelspec": {
   "display_name": ".venv",
   "language": "python",
   "name": "python3"
  },
  "language_info": {
   "codemirror_mode": {
    "name": "ipython",
    "version": 3
   },
   "file_extension": ".py",
   "mimetype": "text/x-python",
   "name": "python",
   "nbconvert_exporter": "python",
   "pygments_lexer": "ipython3",
   "version": "3.9.6"
  },
  "orig_nbformat": 4
 },
 "nbformat": 4,
 "nbformat_minor": 2
}
