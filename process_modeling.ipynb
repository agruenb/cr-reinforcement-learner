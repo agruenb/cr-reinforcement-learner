{
 "cells": [
  {
   "cell_type": "code",
   "execution_count": 385,
   "metadata": {},
   "outputs": [],
   "source": [
    "import numpy as np"
   ]
  },
  {
   "cell_type": "code",
   "execution_count": 386,
   "metadata": {},
   "outputs": [
    {
     "name": "stdout",
     "output_type": "stream",
     "text": [
      "8\n",
      "[1. 1. 1. 1. 1. 1. 1. 1.]\n"
     ]
    }
   ],
   "source": [
    "#model environment parameters\n",
    "adjustment_interval_min = 15\n",
    "charging_duration_min = 120\n",
    "min_charging_rate_kW = 0\n",
    "max_charging_rate_kW = 22\n",
    "battery_capacity_kWh = 32\n",
    "\n",
    "expected_usage_kWh = 30\n",
    "sigma_kWh = 5\n",
    "\n",
    "#optimizer (Reinforcement Learner) parameters\n",
    "fully_exhousted_penalty = -10_000_000_000 #penalty for charging can get very high itself (-329_703_933)\n",
    "\n",
    "#computed parameters\n",
    "num_charging_adjustments = int(charging_duration_min/adjustment_interval_min)\n",
    "\n",
    "\n",
    "A = np.ones(num_charging_adjustments)\n",
    "\n",
    "print(num_charging_adjustments)\n",
    "print(A)"
   ]
  },
  {
   "cell_type": "code",
   "execution_count": 387,
   "metadata": {},
   "outputs": [
    {
     "name": "stdout",
     "output_type": "stream",
     "text": [
      "[25.02703799 30.00857245 30.47460021 38.09894709 30.93160914 29.84633147\n",
      " 42.92808675 26.38080986 26.82751994 24.1494787 ]\n"
     ]
    }
   ],
   "source": [
    "samples = np.random.normal(expected_usage_kWh, sigma_kWh, 10)\n",
    "desired_charge = 30\n",
    "print(samples)"
   ]
  },
  {
   "cell_type": "code",
   "execution_count": 392,
   "metadata": {},
   "outputs": [
    {
     "name": "stdout",
     "output_type": "stream",
     "text": [
      "0.001\n",
      "-9999999997.5\n"
     ]
    }
   ],
   "source": [
    "def calcChargingCost(t, p):\n",
    "    e = np.exp(1)\n",
    "    return A[t]*(e**p)\n",
    "\n",
    "def rewardF(totalChargeByInterval, requiredkWh):\n",
    "    totalCharged = totalChargeByInterval/(int(60/adjustment_interval_min))\n",
    "    # diviation penalty\n",
    "    divitation = abs(requiredkWh - totalCharged)\n",
    "    divitationCost = max(divitation, .001)\n",
    "    # extra penalty for running out\n",
    "    runOutCost = fully_exhousted_penalty if requiredkWh > totalCharged else 0\n",
    "    return  divitationCost + runOutCost\n",
    "\n",
    "print(rewardF(120, 30))\n",
    "print(rewardF(110, 30))"
   ]
  },
  {
   "cell_type": "code",
   "execution_count": 389,
   "metadata": {},
   "outputs": [
    {
     "name": "stdout",
     "output_type": "stream",
     "text": [
      "Actions 21845\n"
     ]
    }
   ],
   "source": [
    "#generate env\n",
    "\n",
    "def convertActionToChargingPower(value):\n",
    "    if value == 0:\n",
    "        return 0\n",
    "    if value == 1:\n",
    "        return 7\n",
    "    if value == 2:\n",
    "        return 14\n",
    "    if value == 3:\n",
    "        return 21\n",
    "\n",
    "class env:\n",
    "    def __init__(self):\n",
    "        self.nA = 4\n",
    "        self.nS = self.totalNodes(num_charging_adjustments)\n",
    "        self.P = self.create_P()\n",
    "        \"\"\" \n",
    "        print(self.nS)\n",
    "        print(self.nA)\n",
    "        print(self.P) \"\"\"\n",
    "\n",
    "    def totalNodes(self, layer):\n",
    "        totalNodes = 0\n",
    "        for lvl in range(0, layer):\n",
    "            totalNodes = totalNodes + self.nA**lvl\n",
    "        return totalNodes\n",
    "\n",
    "    def create_P(self):\n",
    "        P = []\n",
    "\n",
    "        numberOfActions = self.nA\n",
    "        \n",
    "        def getActionValues(level, levelId):\n",
    "            actionValue = levelId%numberOfActions\n",
    "            values = [actionValue]\n",
    "            ids = [levelId]\n",
    "            for lvl in range(0, level):\n",
    "                lastActionId = ids[0]//numberOfActions\n",
    "                lastActionValue = lastActionId%numberOfActions\n",
    "                values.insert(0, lastActionValue)\n",
    "                ids.insert(0, lastActionId)\n",
    "            return values\n",
    "\n",
    "        actions = list()\n",
    "\n",
    "        states = list()\n",
    "\n",
    "        print(\"Actions\", self.totalNodes(num_charging_adjustments))\n",
    "\n",
    "        for actionLevel in range(0, num_charging_adjustments + 1):#+1 because the root of the tree has no pretaken action\n",
    "            lastLayerActions = self.totalNodes(actionLevel)\n",
    "            layerActions = self.totalNodes(actionLevel+1)\n",
    "\n",
    "            states.append([])\n",
    "\n",
    "            for levelActionId in range(0, numberOfActions**actionLevel):\n",
    "                # levelActionId:\n",
    "                #0 0 0 0\n",
    "                #  1 1 1\n",
    "                #    2 2\n",
    "                #      3\n",
    "                #\n",
    "                # globalIds:\n",
    "                #0 1 3 6\n",
    "                #  2 4 7\n",
    "                #    5 8\n",
    "                #      9\n",
    "                #\n",
    "\n",
    "                #construct location in state tree\n",
    "                action = levelActionId%numberOfActions\n",
    "                globalActionId = (lastLayerActions-1) + levelActionId\n",
    "                actions.append(0)\n",
    "\n",
    "                originStateLevelId = levelActionId//numberOfActions\n",
    "                originStateId = originStateLevelId+self.totalNodes(actionLevel-1)\n",
    "                destinationStateId = self.totalNodes(actionLevel)+(originStateLevelId*numberOfActions)+action\n",
    "\n",
    "                if(originStateId == len(P)):\n",
    "                    P.append([])\n",
    "                elif(originStateId > len(P)):\n",
    "                    print(\"!Skipped state!\")\n",
    "\n",
    "\n",
    "                if(actionLevel != num_charging_adjustments):\n",
    "                    #get total charging power\n",
    "                    actionValues = getActionValues(actionLevel, levelActionId)\n",
    "                    #remove root node\n",
    "                    actionValues = actionValues[1:]\n",
    "                    charge = 0\n",
    "                    for i, action in enumerate(actionValues):\n",
    "                        charge = charge + convertActionToChargingPower(action)\n",
    "                    rewardValue = 0\n",
    "                    #limit charge to battery capacity\n",
    "                    if(charge/4 < battery_capacity_kWh):\n",
    "                        rewardValue = -(calcChargingCost(actionLevel - 1, convertActionToChargingPower(action))/4)\n",
    "\n",
    "                    actionTransition = ( 1, destinationStateId, int(rewardValue), False)\n",
    "                    actions[globalActionId] = actionTransition\n",
    "                    P[originStateId].append([actionTransition])\n",
    "                else:\n",
    "                    #get total charging power\n",
    "                    actionValues = getActionValues(actionLevel, levelActionId)\n",
    "                    #remove root node\n",
    "                    actionValues = actionValues[1:]\n",
    "                    charge = 0\n",
    "                    for i, action in enumerate(actionValues):\n",
    "                        charge = charge + convertActionToChargingPower(action)\n",
    "                    rewardValue = 0\n",
    "                    #limit charge to battery capacity\n",
    "                    if(charge/4 < battery_capacity_kWh):\n",
    "                        rewardValue = -(calcChargingCost(actionLevel - 1, convertActionToChargingPower(action))/4)\n",
    "                    rewardValue = rewardF(charge, desired_charge) + rewardValue\n",
    "                    \n",
    "                    actionTransition = (1, destinationStateId, int(rewardValue), True)\n",
    "                    actions[globalActionId] = actionTransition\n",
    "                    P[originStateId].append([actionTransition])\n",
    "        #remove root node\n",
    "        P[0] = P[0][1:]\n",
    "        return P\n",
    "\n",
    "env = env()"
   ]
  },
  {
   "cell_type": "markdown",
   "metadata": {},
   "source": [
    "## Example Decision Path"
   ]
  },
  {
   "cell_type": "code",
   "execution_count": 391,
   "metadata": {},
   "outputs": [
    {
     "name": "stdout",
     "output_type": "stream",
     "text": [
      "1. Action:  1 3 -300651 False\n",
      "2. Action:  1 15 -300651 False\n",
      "3. Action:  1 63 -300651 False\n",
      "4. Action:  1 255 -300651 False\n",
      "5. Action:  1 1023 -300651 False\n",
      "6. Action:  1 4095 -300651 False\n",
      "7. Action:  1 16383 -300651 False\n",
      "8. Action:  1 65535 -10000300649 True\n"
     ]
    }
   ],
   "source": [
    "# P[n] is the list of states\n",
    "# each state containes a list of actions P[n][a]\n",
    "# each action contains a list of tuples like (transition_prob, next_state, reward, done)\n",
    "# since transition_prob is always 1 there is also only one tuple per action\n",
    "\n",
    "# take example path\n",
    "\n",
    "# charge_level_test = [3,3,3,3,3,3,3,3] # This will stop giving negative rewards after some actions when the battery is full\n",
    "charge_level_test = [2,2,2,2,2,2,2,2] # This will have a very large penalty in the last action when the needed output is not met\n",
    "# charge_level_test = [2,2,2,3,3,2,2,2] # This will have lower penalty in the end\n",
    "\n",
    "for prob, next_state, reward, done in env.P[0][charge_level_test[0]]:\n",
    "    print(\"1. Action: \", prob, next_state, reward, done)\n",
    "    for prob, next_state, reward, done in env.P[next_state][charge_level_test[1]]:\n",
    "        print(\"2. Action: \", prob, next_state, reward, done)\n",
    "        for prob, next_state, reward, done in env.P[next_state][charge_level_test[2]]:\n",
    "                print(\"3. Action: \", prob, next_state, reward, done)\n",
    "                for prob, next_state, reward, done in env.P[next_state][charge_level_test[3]]:\n",
    "                        print(\"4. Action: \", prob, next_state, reward, done)\n",
    "                        for prob, next_state, reward, done in env.P[next_state][charge_level_test[4]]:\n",
    "                                print(\"5. Action: \", prob, next_state, reward, done)\n",
    "                                for prob, next_state, reward, done in env.P[next_state][charge_level_test[5]]:\n",
    "                                        print(\"6. Action: \", prob, next_state, reward, done)\n",
    "                                        for prob, next_state, reward, done in env.P[next_state][charge_level_test[6]]:\n",
    "                                                print(\"7. Action: \", prob, next_state, reward, done)\n",
    "                                                for prob, next_state, reward, done in env.P[next_state][charge_level_test[7]]:\n",
    "                                                    print(\"8. Action: \", prob, next_state, reward, done)\n"
   ]
  }
 ],
 "metadata": {
  "kernelspec": {
   "display_name": ".venv",
   "language": "python",
   "name": "python3"
  },
  "language_info": {
   "codemirror_mode": {
    "name": "ipython",
    "version": 3
   },
   "file_extension": ".py",
   "mimetype": "text/x-python",
   "name": "python",
   "nbconvert_exporter": "python",
   "pygments_lexer": "ipython3",
   "version": "3.9.6"
  },
  "orig_nbformat": 4
 },
 "nbformat": 4,
 "nbformat_minor": 2
}
