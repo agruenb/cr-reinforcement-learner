{
 "cells": [
  {
   "cell_type": "code",
   "execution_count": 2,
   "metadata": {},
   "outputs": [],
   "source": [
    "import numpy as np"
   ]
  },
  {
   "cell_type": "code",
   "execution_count": 21,
   "metadata": {},
   "outputs": [
    {
     "name": "stdout",
     "output_type": "stream",
     "text": [
      "[0 1 2 3 4 5 6 7] [1. 1. 1. 1. 1. 1. 1. 1.] [0. 0. 0. 0. 0. 0. 0. 0.]\n"
     ]
    }
   ],
   "source": [
    "#model environment parameters\n",
    "adjustment_interval_min = 15\n",
    "charging_duration_min = 120\n",
    "min_charging_rate_kW = 0\n",
    "max_charging_rate_kW = 22\n",
    "battery_capacity_kWh = 40\n",
    "\n",
    "expected_usage_kWh = 30\n",
    "sigma_kWh = 5\n",
    "\n",
    "#optimizer (Reinforcement Learner) parameters\n",
    "fully_exhousted_penalty = 0.99\n",
    "\n",
    "#computed parameters\n",
    "num_charging_adjustments = int(charging_duration_min/adjustment_interval_min)\n",
    "\n",
    "#series\n",
    "T = np.linspace(0, num_charging_adjustments - 1, num_charging_adjustments).astype(int)\n",
    "A = np.ones((num_charging_adjustments))\n",
    "P = np.zeros((num_charging_adjustments))\n",
    "\n",
    "def chargingCost(T, P):\n",
    "    e = np.exp(1)\n",
    "    cost_sum = 0\n",
    "    for t in T:\n",
    "        cost_sum += A[t]*(e**P[t])\n",
    "    return cost_sum\n",
    "\n",
    "print(T, A, P)"
   ]
  },
  {
   "cell_type": "code",
   "execution_count": 20,
   "metadata": {},
   "outputs": [
    {
     "data": {
      "text/plain": [
       "8.0"
      ]
     },
     "execution_count": 20,
     "metadata": {},
     "output_type": "execute_result"
    }
   ],
   "source": [
    "chargingCost(T, P)"
   ]
  }
 ],
 "metadata": {
  "kernelspec": {
   "display_name": ".venv",
   "language": "python",
   "name": "python3"
  },
  "language_info": {
   "codemirror_mode": {
    "name": "ipython",
    "version": 3
   },
   "file_extension": ".py",
   "mimetype": "text/x-python",
   "name": "python",
   "nbconvert_exporter": "python",
   "pygments_lexer": "ipython3",
   "version": "3.9.6"
  },
  "orig_nbformat": 4
 },
 "nbformat": 4,
 "nbformat_minor": 2
}
