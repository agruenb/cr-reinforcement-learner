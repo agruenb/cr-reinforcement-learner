{
 "cells": [
  {
   "cell_type": "code",
   "execution_count": 122,
   "metadata": {},
   "outputs": [],
   "source": [
    "import numpy as np"
   ]
  },
  {
   "cell_type": "code",
   "execution_count": 202,
   "metadata": {},
   "outputs": [
    {
     "name": "stdout",
     "output_type": "stream",
     "text": [
      "8\n",
      "[0 1 2 3 4 5 6 7] [ 0  1  2  3  4  5  6  7  8  9 10 11 12 13 14 15 16 17 18 19 20 21 22] [0. 0. 0. 0. 0. 0. 0. 0.] [1. 1. 1. 1. 1. 1. 1. 1.]\n"
     ]
    }
   ],
   "source": [
    "#model environment parameters\n",
    "adjustment_interval_min = 15\n",
    "charging_duration_min = 120\n",
    "min_charging_rate_kW = 0\n",
    "max_charging_rate_kW = 22\n",
    "battery_capacity_kWh = 40\n",
    "\n",
    "expected_usage_kWh = 30\n",
    "sigma_kWh = 5\n",
    "\n",
    "#optimizer (Reinforcement Learner) parameters\n",
    "fully_exhousted_penalty = 0.99\n",
    "\n",
    "#computed parameters\n",
    "num_charging_adjustments = int(charging_duration_min/adjustment_interval_min)\n",
    "print(num_charging_adjustments)\n",
    "\n",
    "#series\n",
    "Intervals = np.linspace(0, num_charging_adjustments - 1, num_charging_adjustments).astype(int)\n",
    "Actions = np.linspace(min_charging_rate_kW, max_charging_rate_kW, max_charging_rate_kW + 1).astype(int)\n",
    "\n",
    "A = np.ones(num_charging_adjustments)\n",
    "\n",
    "print(Intervals, Actions, A)"
   ]
  },
  {
   "cell_type": "code",
   "execution_count": 124,
   "metadata": {},
   "outputs": [
    {
     "name": "stdout",
     "output_type": "stream",
     "text": [
      "[34.69887272 21.49787134 30.87573638 33.42189521 37.16105302 31.22192948\n",
      " 32.49166767 31.72393138 35.73044428 30.84258531]\n"
     ]
    }
   ],
   "source": [
    "samples = np.random.normal(expected_usage_kWh, sigma_kWh, 10)\n",
    "\n",
    "print(samples)"
   ]
  },
  {
   "cell_type": "code",
   "execution_count": 216,
   "metadata": {},
   "outputs": [
    {
     "name": "stdout",
     "output_type": "stream",
     "text": [
      "0.001\n"
     ]
    }
   ],
   "source": [
    "def calcChargingCost(t, p):\n",
    "    e = np.exp(1)\n",
    "    return A[t]*(e**p)\n",
    "\n",
    "def rewardF(totalChargeByInterval, requiredkWh):\n",
    "    totalCharged = totalChargeByInterval/(int(60/adjustment_interval_min))\n",
    "    # diviation penalty\n",
    "    divitation = abs(30 - totalCharged)\n",
    "    divitationCost = max(divitation, .001)\n",
    "    # extra penalty for running out\n",
    "    runOutCost = -1_000_000_000 if requiredkWh > totalCharged else 0\n",
    "    return  divitationCost + runOutCost\n",
    "\n",
    "print(rewardF(120, 30))"
   ]
  },
  {
   "cell_type": "code",
   "execution_count": 294,
   "metadata": {},
   "outputs": [
    {
     "name": "stdout",
     "output_type": "stream",
     "text": [
      "Actions 21845\n",
      "States 21845\n",
      "0\n",
      "1\n",
      "2\n",
      "3\n",
      "4\n",
      "5\n",
      "6\n",
      "7\n",
      "8\n"
     ]
    }
   ],
   "source": [
    "#generate env\n",
    "\n",
    "def convertActionToChargingPower(value):\n",
    "    if value == 0:\n",
    "        return 0\n",
    "    if value == 1:\n",
    "        return 6\n",
    "    if value == 2:\n",
    "        return 12\n",
    "    if value == 3:\n",
    "        return 18\n",
    "\n",
    "class env:\n",
    "    def __init__(self):\n",
    "        self.nA = 4\n",
    "        self.nS = self.totalNodes(num_charging_adjustments)\n",
    "        self.P = self.create_P()\n",
    "        \"\"\" \n",
    "        print(self.nS)\n",
    "        print(self.nA)\n",
    "        print(self.P) \"\"\"\n",
    "\n",
    "    def totalNodes(self, layer):\n",
    "        totalNodes = 0\n",
    "        for lvl in range(0, layer):\n",
    "            totalNodes = totalNodes + self.nA**lvl\n",
    "        return totalNodes\n",
    "\n",
    "    def create_P(self):\n",
    "        P = []\n",
    "\n",
    "        numberOfActions = self.nA\n",
    "        \n",
    "        def getActionValues(level, levelId):\n",
    "            actionValue = levelId%numberOfActions\n",
    "            values = [actionValue]\n",
    "            ids = [levelId]\n",
    "            for lvl in range(0, level):\n",
    "                lastActionId = ids[0]//numberOfActions\n",
    "                lastActionValue = lastActionId%numberOfActions\n",
    "                values.insert(0, lastActionValue)\n",
    "                ids.insert(0, lastActionId)\n",
    "            return values\n",
    "\n",
    "        actions = list()\n",
    "\n",
    "        states = list()\n",
    "\n",
    "        print(\"Actions\", self.totalNodes(num_charging_adjustments))\n",
    "        print(\"States\", self.totalNodes(num_charging_adjustments))\n",
    "\n",
    "        for actionLevel in range(0, num_charging_adjustments + 1):#+1 because the root of the tree has no pretaken action\n",
    "            print(actionLevel)\n",
    "            lastLayerActions = self.totalNodes(actionLevel)\n",
    "            layerActions = self.totalNodes(actionLevel+1)\n",
    "\n",
    "            states.append([])\n",
    "\n",
    "            for levelActionId in range(0, numberOfActions**actionLevel):\n",
    "                # levelActionId:\n",
    "                #0 0 0 0\n",
    "                #  1 1 1\n",
    "                #    2 2\n",
    "                #      3\n",
    "                #\n",
    "                # globalIds:\n",
    "                #0 1 3 6\n",
    "                #  2 4 7\n",
    "                #    5 8\n",
    "                #      9\n",
    "                #\n",
    "\n",
    "                #construct location in state tree\n",
    "                action = levelActionId%numberOfActions\n",
    "                globalActionId = (lastLayerActions-1) + levelActionId\n",
    "                actions.append(0)\n",
    "\n",
    "                originStateLevelId = levelActionId//numberOfActions\n",
    "                originStateId = originStateLevelId+self.totalNodes(actionLevel-1)\n",
    "                destinationStateId = self.totalNodes(actionLevel)+(originStateLevelId*numberOfActions)+action\n",
    "\n",
    "                if(originStateId == len(P)):\n",
    "                    P.append([])\n",
    "                elif(originStateId > len(P)):\n",
    "                    print(\"!Skipped state!\")\n",
    "\n",
    "\n",
    "                if(actionLevel != num_charging_adjustments):\n",
    "                    actionTransition = ( 1, destinationStateId, int(-(calcChargingCost(actionLevel - 1, convertActionToChargingPower(action))/4)), False)\n",
    "                    actions[globalActionId] = actionTransition\n",
    "                    P[originStateId].append([actionTransition])\n",
    "                else:\n",
    "                    actionValues = getActionValues(actionLevel, levelActionId)\n",
    "                    #remove root node\n",
    "                    actionValues = actionValues[1:]\n",
    "                    charge = 0\n",
    "                    for i, action in enumerate(actionValues):\n",
    "                        charge = charge + convertActionToChargingPower(action)\n",
    "                    rewardValue = rewardF(charge, 30)-(calcChargingCost(actionLevel - 1, convertActionToChargingPower(action))/4)\n",
    "                    actionTransition = (1, destinationStateId, int(rewardValue), True)\n",
    "                    actions[globalActionId] = actionTransition\n",
    "                    P[originStateId].append([actionTransition])\n",
    "        #remove root node\n",
    "        P[0] = P[0][1:]\n",
    "        return P\n",
    "\n",
    "env = env()"
   ]
  },
  {
   "cell_type": "code",
   "execution_count": 295,
   "metadata": {},
   "outputs": [
    {
     "name": "stdout",
     "output_type": "stream",
     "text": [
      "1. Action:  1 1 0 False\n",
      "2. Action:  1 8 -16414992 False\n",
      "3. Action:  1 36 -16414992 False\n",
      "4. Action:  1 148 -16414992 False\n",
      "5. Action:  1 595 -40688 False\n",
      "6. Action:  1 2384 -16414992 False\n",
      "7. Action:  1 9537 0 False\n",
      "8. Action:  1 38152 -1016414987 True\n"
     ]
    },
    {
     "data": {
      "text/plain": [
       "12"
      ]
     },
     "execution_count": 295,
     "metadata": {},
     "output_type": "execute_result"
    }
   ],
   "source": [
    "#take example path always taking action 2\n",
    "for prob, next_state, reward, done in env.P[0][0]:\n",
    "    print(\"1. Action: \", prob, next_state, reward, done)\n",
    "    for prob, next_state, reward, done in env.P[next_state][3]:\n",
    "        print(\"2. Action: \", prob, next_state, reward, done)\n",
    "        for prob, next_state, reward, done in env.P[next_state][3]:\n",
    "                print(\"3. Action: \", prob, next_state, reward, done)\n",
    "                for prob, next_state, reward, done in env.P[next_state][3]:\n",
    "                        print(\"4. Action: \", prob, next_state, reward, done)\n",
    "                        for prob, next_state, reward, done in env.P[next_state][2]:\n",
    "                                print(\"5. Action: \", prob, next_state, reward, done)\n",
    "                                for prob, next_state, reward, done in env.P[next_state][3]:\n",
    "                                        print(\"6. Action: \", prob, next_state, reward, done)\n",
    "                                        for prob, next_state, reward, done in env.P[next_state][0]:\n",
    "                                                print(\"7. Action: \", prob, next_state, reward, done)\n",
    "                                                for prob, next_state, reward, done in env.P[next_state][3]:\n",
    "                                                    print(\"8. Action: \", prob, next_state, reward, done)\n",
    "\n",
    "\n",
    "convertActionToChargingPower(2)\n"
   ]
  },
  {
   "cell_type": "code",
   "execution_count": null,
   "metadata": {},
   "outputs": [],
   "source": [
    "def value_iteration(env, theta=0.0001, discount_factor=1.0):\n",
    "    \"\"\"\n",
    "    Value Iteration Algorithm.\n",
    "    \n",
    "    Args:\n",
    "        env: OpenAI env. env.P represents the transition probabilities of the environment.\n",
    "            env.P[s][a] is a list of transition tuples (prob, next_state, reward, done).\n",
    "            env.nS is a number of states in the environment. \n",
    "            env.nA is a number of actions in the environment.\n",
    "        theta: We stop evaluation once our value function change is less than theta for all states.\n",
    "        discount_factor: Gamma discount factor.\n",
    "        \n",
    "    Returns:\n",
    "        A tuple (policy, V) of the optimal policy and the optimal value function.\n",
    "    \"\"\"\n",
    "    \n",
    "    def one_step_lookahead(state, V):\n",
    "        \"\"\"\n",
    "        Helper function to calculate the value for all action in a given state.\n",
    "        \n",
    "        Args:\n",
    "            state: The state to consider (int)\n",
    "            V: The value to use as an estimator, Vector of length env.nS\n",
    "        \n",
    "        Returns:\n",
    "            A vector of length env.nA containing the expected value of each action.\n",
    "        \"\"\"\n",
    "        A = np.zeros(env.nA)\n",
    "        for a in range(env.nA):\n",
    "            for prob, next_state, reward, done in env.P[state][a]:\n",
    "                A[a] += prob * (reward + discount_factor * V[next_state])\n",
    "        return A\n",
    "    \n",
    "    V = np.zeros(env.nS)\n",
    "    while True:\n",
    "        # Stopping condition\n",
    "        delta = 0\n",
    "        # Update each state...\n",
    "        for s in range(env.nS):\n",
    "            # Do a one-step lookahead to find the best action\n",
    "            A = one_step_lookahead(s, V)\n",
    "            best_action_value = np.max(A)\n",
    "            # Calculate delta across all states seen so far\n",
    "            delta = max(delta, np.abs(best_action_value - V[s]))\n",
    "            # Update the value function. Ref: Sutton book eq. 4.10. \n",
    "            V[s] = best_action_value        \n",
    "        # Check if we can stop \n",
    "        if delta < theta:\n",
    "            break\n",
    "    \n",
    "    # Create a deterministic policy using the optimal value function\n",
    "    policy = np.zeros([env.nS, env.nA])\n",
    "    for s in range(env.nS):\n",
    "        # One step lookahead to find the best action for this state\n",
    "        A = one_step_lookahead(s, V)\n",
    "        best_action = np.argmax(A)\n",
    "        # Always take the best action\n",
    "        policy[s, best_action] = 1.0\n",
    "    \n",
    "    return policy, V"
   ]
  }
 ],
 "metadata": {
  "kernelspec": {
   "display_name": ".venv",
   "language": "python",
   "name": "python3"
  },
  "language_info": {
   "codemirror_mode": {
    "name": "ipython",
    "version": 3
   },
   "file_extension": ".py",
   "mimetype": "text/x-python",
   "name": "python",
   "nbconvert_exporter": "python",
   "pygments_lexer": "ipython3",
   "version": "3.9.6"
  },
  "orig_nbformat": 4
 },
 "nbformat": 4,
 "nbformat_minor": 2
}
